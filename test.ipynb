{
 "cells": [
  {
   "cell_type": "code",
   "execution_count": 6,
   "metadata": {},
   "outputs": [
    {
     "name": "stdout",
     "output_type": "stream",
     "text": [
      "SimpleZipcode(zipcode='33414', zipcode_type='STANDARD', major_city='Wellington', post_office_city='Wellington, FL', common_city_list=['Wellington', 'Royal Palm Beach', 'Royal Plm Bch', 'Village...'], county='Palm Beach County', state='FL', lat=26.65, lng=-80.25, timezone='America/New_York', radius_in_miles=4.0, area_code_list='561', population=53718, population_density=1914.0, land_area_in_sqmi=28.07, water_area_in_sqmi=0.27, housing_units=21465, occupied_housing_units=18603, median_home_value=264100, median_household_income=75632, bounds_west=-80.30826, bounds_east=-80.173749, bounds_north=26.683225, bounds_south=26.607446)\n"
     ]
    },
    {
     "name": "stderr",
     "output_type": "stream",
     "text": [
      "d:\\Work\\try\\Market-Analysis\\.conda\\lib\\site-packages\\gevent\\hub.py:161: UserWarning: libuv only supports millisecond timer resolution; all times less will be set to 1 ms\n",
      "  with loop.timer(seconds, ref=ref) as t:\n"
     ]
    }
   ],
   "source": [
    "from api import get_zip_data\n",
    "info=get_zip_data(33414)\n",
    "print(info)"
   ]
  },
  {
   "cell_type": "code",
   "execution_count": 7,
   "metadata": {},
   "outputs": [
    {
     "ename": "NameError",
     "evalue": "name 'arg' is not defined",
     "output_type": "error",
     "traceback": [
      "\u001b[1;31m---------------------------------------------------------------------------\u001b[0m",
      "\u001b[1;31mNameError\u001b[0m                                 Traceback (most recent call last)",
      "Cell \u001b[1;32mIn[7], line 3\u001b[0m\n\u001b[0;32m      1\u001b[0m \u001b[38;5;28;01mfrom\u001b[39;00m \u001b[38;5;21;01mapi\u001b[39;00m \u001b[38;5;28;01mimport\u001b[39;00m get_rent\n\u001b[1;32m----> 3\u001b[0m ren\u001b[38;5;241m=\u001b[39mget_rent(info,\u001b[43marg\u001b[49m)\n\u001b[0;32m      5\u001b[0m ren\n\u001b[0;32m      6\u001b[0m \u001b[38;5;66;03m# print(\"sd\"\u001b[39;00m\n",
      "\u001b[1;31mNameError\u001b[0m: name 'arg' is not defined"
     ]
    }
   ],
   "source": [
    "from api import get_rent\n",
    "\n",
    "ren=get_rent(info,arg)\n",
    "\n",
    "ren\n",
    "# print(\"sd\""
   ]
  },
  {
   "cell_type": "code",
   "execution_count": 8,
   "metadata": {},
   "outputs": [],
   "source": [
    "zips=[33414,90011,90650,91331,97035,50023,50311]"
   ]
  },
  {
   "cell_type": "markdown",
   "metadata": {},
   "source": [
    "https://www.apartmenthomeliving.com/wellington-fl/zip-code/33414-apartments"
   ]
  },
  {
   "cell_type": "code",
   "execution_count": 9,
   "metadata": {},
   "outputs": [],
   "source": [
    "url=f'https://www.apartmenthomeliving.com/{info.post_office_city.lower().replace(\", \",\"-\")}/zip-code/{info.zipcode}-apartments'"
   ]
  },
  {
   "cell_type": "code",
   "execution_count": 10,
   "metadata": {},
   "outputs": [
    {
     "name": "stdout",
     "output_type": "stream",
     "text": [
      "https://www.apartmenthomeliving.com/wellington-fl/zip-code/33414-apartments\n",
      "https://www.apartmenthomeliving.com/los-angeles-ca/zip-code/90011-apartments\n",
      "https://www.apartmenthomeliving.com/norwalk-ca/zip-code/90650-apartments\n",
      "https://www.apartmenthomeliving.com/pacoima-ca/zip-code/91331-apartments\n",
      "https://www.apartmenthomeliving.com/lake-oswego-or/zip-code/97035-apartments\n",
      "https://www.apartmenthomeliving.com/ankeny-ia/zip-code/50023-apartments\n",
      "https://www.apartmenthomeliving.com/des-moines-ia/zip-code/50311-apartments\n"
     ]
    }
   ],
   "source": [
    "for zip in zips:\n",
    "    info=get_zip_data(zip)\n",
    "    url=f'https://www.apartmenthomeliving.com/{info.post_office_city.lower().replace(\", \",\"-\").replace(\" \",\"-\")}/zip-code/{info.zipcode}-apartments'\n",
    "    print(url)"
   ]
  },
  {
   "cell_type": "code",
   "execution_count": 27,
   "metadata": {},
   "outputs": [
    {
     "name": "stderr",
     "output_type": "stream",
     "text": [
      "d:\\Work\\try\\Market-Analysis\\.conda\\lib\\site-packages\\gevent\\hub.py:161: UserWarning: libuv only supports millisecond timer resolution; all times less will be set to 1 ms\n",
      "  with loop.timer(seconds, ref=ref) as t:\n"
     ]
    }
   ],
   "source": [
    "from urllib.request import Request , urlopen\n",
    "import gzip\n",
    "from bs4 import BeautifulSoup"
   ]
  },
  {
   "cell_type": "code",
   "execution_count": 26,
   "metadata": {},
   "outputs": [],
   "source": [
    "url\n",
    "headers = {'User-Agent': 'Mozilla/5.0 (Windows NT 6.1; WOW64) AppleWebKit/537.36 (KHTML, like Gecko) Chrome/56.0.2924.76 Safari/537.36', \"Upgrade-Insecure-Requests\": \"1\", \"DNT\": \"1\", \"Accept\": \"text/html,application/xhtml+xml,application/xml;q=0.9,*/*;q=0.8\", \"Accept-Language\": \"en-US,en;q=0.5\", \"Accept-Encoding\": \"gzip, deflate\"}\n",
    "response = Request(url, headers=headers)\n",
    "response1 = urlopen(response)\n",
    "if response1.info().get('Content-Encoding') == 'gzip':\n",
    "    data = gzip.decompress(response1.read())\n",
    "else:\n",
    "    data = response1.read()\n",
    "result = data.decode('utf-8')\n"
   ]
  },
  {
   "cell_type": "code",
   "execution_count": 30,
   "metadata": {},
   "outputs": [],
   "source": [
    "import pandas as pd"
   ]
  },
  {
   "cell_type": "code",
   "execution_count": 32,
   "metadata": {},
   "outputs": [
    {
     "name": "stdout",
     "output_type": "stream",
     "text": [
      "Collecting lxml\n",
      "  Downloading lxml-5.2.1-cp39-cp39-win_amd64.whl.metadata (3.5 kB)\n",
      "Downloading lxml-5.2.1-cp39-cp39-win_amd64.whl (3.8 MB)\n",
      "   ---------------------------------------- 0.0/3.8 MB ? eta -:--:--\n",
      "   ---------------------------------------- 0.0/3.8 MB 991.0 kB/s eta 0:00:04\n",
      "   ------ --------------------------------- 0.6/3.8 MB 7.6 MB/s eta 0:00:01\n",
      "   -------- ------------------------------- 0.8/3.8 MB 6.1 MB/s eta 0:00:01\n",
      "   ---------- ----------------------------- 1.0/3.8 MB 5.5 MB/s eta 0:00:01\n",
      "   ---------- ----------------------------- 1.0/3.8 MB 5.4 MB/s eta 0:00:01\n",
      "   ---------- ----------------------------- 1.0/3.8 MB 5.4 MB/s eta 0:00:01\n",
      "   ----------- ---------------------------- 1.1/3.8 MB 3.5 MB/s eta 0:00:01\n",
      "   ----------------- ---------------------- 1.7/3.8 MB 4.6 MB/s eta 0:00:01\n",
      "   ------------------- -------------------- 1.9/3.8 MB 4.6 MB/s eta 0:00:01\n",
      "   --------------------- ------------------ 2.1/3.8 MB 4.5 MB/s eta 0:00:01\n",
      "   --------------------- ------------------ 2.1/3.8 MB 4.6 MB/s eta 0:00:01\n",
      "   --------------------- ------------------ 2.1/3.8 MB 4.6 MB/s eta 0:00:01\n",
      "   ----------------------- ---------------- 2.2/3.8 MB 3.7 MB/s eta 0:00:01\n",
      "   ----------------------------- ---------- 2.8/3.8 MB 4.3 MB/s eta 0:00:01\n",
      "   ------------------------------- -------- 3.0/3.8 MB 4.3 MB/s eta 0:00:01\n",
      "   --------------------------------- ------ 3.2/3.8 MB 4.3 MB/s eta 0:00:01\n",
      "   --------------------------------- ------ 3.2/3.8 MB 4.3 MB/s eta 0:00:01\n",
      "   --------------------------------- ------ 3.2/3.8 MB 4.3 MB/s eta 0:00:01\n",
      "   ----------------------------------- ---- 3.3/3.8 MB 3.8 MB/s eta 0:00:01\n",
      "   ---------------------------------------- 3.8/3.8 MB 4.2 MB/s eta 0:00:00\n",
      "Installing collected packages: lxml\n",
      "Successfully installed lxml-5.2.1\n"
     ]
    }
   ],
   "source": [
    "!pip install lxml"
   ]
  },
  {
   "cell_type": "code",
   "execution_count": 40,
   "metadata": {},
   "outputs": [
    {
     "name": "stderr",
     "output_type": "stream",
     "text": [
      "C:\\Users\\heman\\AppData\\Local\\Temp\\ipykernel_9648\\1115417382.py:4: FutureWarning: Passing literal html to 'read_html' is deprecated and will be removed in a future version. To read from a literal string, wrap it in a 'StringIO' object.\n",
      "  df=pd.read_html(str(tabels))\n"
     ]
    },
    {
     "data": {
      "text/html": [
       "<div>\n",
       "<style scoped>\n",
       "    .dataframe tbody tr th:only-of-type {\n",
       "        vertical-align: middle;\n",
       "    }\n",
       "\n",
       "    .dataframe tbody tr th {\n",
       "        vertical-align: top;\n",
       "    }\n",
       "\n",
       "    .dataframe thead th {\n",
       "        text-align: right;\n",
       "    }\n",
       "</style>\n",
       "<table border=\"1\" class=\"dataframe\">\n",
       "  <thead>\n",
       "    <tr style=\"text-align: right;\">\n",
       "      <th></th>\n",
       "      <th>Bedroom</th>\n",
       "      <th>Average Rent</th>\n",
       "      <th>Cheapest Rent</th>\n",
       "      <th>Highest Rent</th>\n",
       "    </tr>\n",
       "  </thead>\n",
       "  <tbody>\n",
       "    <tr>\n",
       "      <th>0</th>\n",
       "      <td>50311 Studio Apartments</td>\n",
       "      <td>$897</td>\n",
       "      <td>$710</td>\n",
       "      <td>$1,072</td>\n",
       "    </tr>\n",
       "    <tr>\n",
       "      <th>1</th>\n",
       "      <td>50311 1 Bedroom Apartments</td>\n",
       "      <td>$1,327</td>\n",
       "      <td>$670</td>\n",
       "      <td>$2,326</td>\n",
       "    </tr>\n",
       "    <tr>\n",
       "      <th>2</th>\n",
       "      <td>50311 2 Bedroom Apartments</td>\n",
       "      <td>$1,398</td>\n",
       "      <td>$805</td>\n",
       "      <td>$2,291</td>\n",
       "    </tr>\n",
       "    <tr>\n",
       "      <th>3</th>\n",
       "      <td>50311 3 Bedroom Apartments</td>\n",
       "      <td>$1,408</td>\n",
       "      <td>$1,400</td>\n",
       "      <td>$1,500</td>\n",
       "    </tr>\n",
       "    <tr>\n",
       "      <th>4</th>\n",
       "      <td>50311 4 Bedroom Apartments</td>\n",
       "      <td>$1,236</td>\n",
       "      <td>$885</td>\n",
       "      <td>$1,540</td>\n",
       "    </tr>\n",
       "  </tbody>\n",
       "</table>\n",
       "</div>"
      ],
      "text/plain": [
       "                      Bedroom Average Rent Cheapest Rent Highest Rent\n",
       "0     50311 Studio Apartments         $897          $710       $1,072\n",
       "1  50311 1 Bedroom Apartments       $1,327          $670       $2,326\n",
       "2  50311 2 Bedroom Apartments       $1,398          $805       $2,291\n",
       "3  50311 3 Bedroom Apartments       $1,408        $1,400       $1,500\n",
       "4  50311 4 Bedroom Apartments       $1,236          $885       $1,540"
      ]
     },
     "execution_count": 40,
     "metadata": {},
     "output_type": "execute_result"
    },
    {
     "name": "stderr",
     "output_type": "stream",
     "text": [
      "d:\\Work\\try\\Market-Analysis\\.conda\\lib\\site-packages\\gevent\\hub.py:161: UserWarning: libuv only supports millisecond timer resolution; all times less will be set to 1 ms\n",
      "  with loop.timer(seconds, ref=ref) as t:\n"
     ]
    }
   ],
   "source": [
    "soup = BeautifulSoup(result, \"html.parser\")\n",
    "tabels=soup.find_all('table',class_='price_chart')\n",
    "# tabels\n",
    "df=pd.read_html(str(tabels))\n",
    "df[0]"
   ]
  },
  {
   "cell_type": "code",
   "execution_count": null,
   "metadata": {},
   "outputs": [],
   "source": []
  },
  {
   "cell_type": "code",
   "execution_count": null,
   "metadata": {},
   "outputs": [],
   "source": []
  }
 ],
 "metadata": {
  "kernelspec": {
   "display_name": "Python 3",
   "language": "python",
   "name": "python3"
  },
  "language_info": {
   "codemirror_mode": {
    "name": "ipython",
    "version": 3
   },
   "file_extension": ".py",
   "mimetype": "text/x-python",
   "name": "python",
   "nbconvert_exporter": "python",
   "pygments_lexer": "ipython3",
   "version": "3.9.18"
  }
 },
 "nbformat": 4,
 "nbformat_minor": 2
}
