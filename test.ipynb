{
 "cells": [
  {
   "cell_type": "code",
   "execution_count": 18,
   "metadata": {},
   "outputs": [
    {
     "name": "stdout",
     "output_type": "stream",
     "text": [
      "33414\n"
     ]
    }
   ],
   "source": [
    "from api import get_zip_data\n",
    "info=get_zip_data(33414)\n",
    "print(info.zipcode)\n",
    "from api import get_rent\n",
    "arg=\"2-bedrooms\""
   ]
  },
  {
   "cell_type": "code",
   "execution_count": 19,
   "metadata": {},
   "outputs": [
    {
     "data": {
      "text/html": [
       "<div>\n",
       "<style scoped>\n",
       "    .dataframe tbody tr th:only-of-type {\n",
       "        vertical-align: middle;\n",
       "    }\n",
       "\n",
       "    .dataframe tbody tr th {\n",
       "        vertical-align: top;\n",
       "    }\n",
       "\n",
       "    .dataframe thead th {\n",
       "        text-align: right;\n",
       "    }\n",
       "</style>\n",
       "<table border=\"1\" class=\"dataframe\">\n",
       "  <thead>\n",
       "    <tr style=\"text-align: right;\">\n",
       "      <th></th>\n",
       "      <th>Bedrooms</th>\n",
       "      <th>Max</th>\n",
       "      <th>Min</th>\n",
       "    </tr>\n",
       "  </thead>\n",
       "  <tbody>\n",
       "    <tr>\n",
       "      <th>0</th>\n",
       "      <td>2-bedrooms</td>\n",
       "      <td>$16,000 /mo</td>\n",
       "      <td>$1,995/mo</td>\n",
       "    </tr>\n",
       "  </tbody>\n",
       "</table>\n",
       "</div>"
      ],
      "text/plain": [
       "     Bedrooms          Max         Min\n",
       "0  2-bedrooms  $16,000 /mo  $1,995/mo "
      ]
     },
     "execution_count": 19,
     "metadata": {},
     "output_type": "execute_result"
    }
   ],
   "source": [
    "from api import get_rent\n",
    "\n",
    "ren=get_rent(info,arg)\n",
    "\n",
    "ren"
   ]
  },
  {
   "cell_type": "code",
   "execution_count": 3,
   "metadata": {},
   "outputs": [
    {
     "ename": "TypeError",
     "evalue": "get_rent() missing 1 required positional argument: 'bed_fil'",
     "output_type": "error",
     "traceback": [
      "\u001b[1;31m---------------------------------------------------------------------------\u001b[0m",
      "\u001b[1;31mTypeError\u001b[0m                                 Traceback (most recent call last)",
      "Cell \u001b[1;32mIn[3], line 1\u001b[0m\n\u001b[1;32m----> 1\u001b[0m ren\u001b[38;5;241m=\u001b[39m\u001b[43mget_rent\u001b[49m\u001b[43m(\u001b[49m\u001b[43minfo\u001b[49m\u001b[43m)\u001b[49m\n\u001b[0;32m      2\u001b[0m \u001b[38;5;28mprint\u001b[39m(ren\u001b[38;5;241m.\u001b[39mshape)\n\u001b[0;32m      3\u001b[0m \u001b[38;5;28mprint\u001b[39m(ren)\n",
      "\u001b[1;31mTypeError\u001b[0m: get_rent() missing 1 required positional argument: 'bed_fil'"
     ]
    }
   ],
   "source": [
    "ren=get_rent(info)\n",
    "print(ren.shape)\n",
    "print(ren)"
   ]
  },
  {
   "cell_type": "code",
   "execution_count": 31,
   "metadata": {},
   "outputs": [
    {
     "name": "stdout",
     "output_type": "stream",
     "text": [
      "  Bedrooms            Max            Min\n",
      "0  studios  No data found  No data found\n",
      "1  studios  No data found  No data found\n"
     ]
    }
   ],
   "source": [
    "from api import get_rent\n",
    "ren=get_rent(info)\n",
    "print(ren)"
   ]
  },
  {
   "cell_type": "code",
   "execution_count": 11,
   "metadata": {},
   "outputs": [],
   "source": [
    "from bs4 import BeautifulSoup\n",
    "import requests\n",
    "from uszipcode import SearchEngine\n",
    "import urllib.parse\n",
    "import pandas as pd\n",
    "from urllib.request import Request , urlopen\n",
    "import gzip\n",
    "import threading\n",
    "import re"
   ]
  },
  {
   "cell_type": "code",
   "execution_count": 23,
   "metadata": {},
   "outputs": [],
   "source": [
    "\n",
    "def get_rent_data(bed_fil, sort, info, DATA):\n",
    "\n",
    "    url = f'https://www.apartments.com/{info.major_city.lower().replace(\" \", \"-\")}-{info.state.lower()}-{info.zipcode}/{bed_fil}/?so={sort}'\n",
    "    headers = {'User-Agent': 'Mozilla/5.0 (Windows NT 6.1; WOW64) AppleWebKit/537.36 (KHTML, like Gecko) Chrome/56.0.2924.76 Safari/537.36', \"Upgrade-Insecure-Requests\": \"1\", \"DNT\": \"1\", \"Accept\": \"text/html,application/xhtml+xml,application/xml;q=0.9,*/*;q=0.8\", \"Accept-Language\": \"en-US,en;q=0.5\", \"Accept-Encoding\": \"gzip, deflate\"}\n",
    "    response = Request(url, headers=headers)\n",
    "    response1 = urlopen(response)\n",
    "    if response1.info().get('Content-Encoding') == 'gzip':\n",
    "        data = gzip.decompress(response1.read())\n",
    "    else:\n",
    "        data = response1.read()\n",
    "    result = data.decode('utf-8')\n",
    "    soup = BeautifulSoup(result, \"html.parser\")\n",
    "    div = soup.find(\"div\", class_=\"price-range\")\n",
    "    print(div)\n",
    "    print(\"1\")\n",
    "    if div and sort==\"1\":\n",
    "        max_rent = div.text \n",
    "        # min_rent = \"\"\n",
    "        min_rent=''\n",
    "    elif div and sort==\"2\":\n",
    "        # max_rent = div.text\n",
    "        max_rent='' \n",
    "        min_rent = div.text\n",
    "    elif soup.find(\"p\", class_=\"bed-price-range\") and sort=='1':\n",
    "        div = soup.find(\"p\", class_=\"bed-price-range\")\n",
    "        max_rent = div.find(\"span\", class_=\"property-rents\").text\n",
    "        # min_rent = div.find(\"span\", class_=\"property-rents\").text\n",
    "        min_rent=''\n",
    "    elif div and sort==\"2\":\n",
    "        # max_rent = div.text\n",
    "        max_rent=''\n",
    "        min_rent = div.text\n",
    "    elif soup.find(\"p\", class_=\"bed-price-range\") and sort=='2':\n",
    "        div = soup.find(\"p\", class_=\"bed-price-range\")\n",
    "        max_rent = div.find(\"span\", class_=\"property-rents\").text\n",
    "        # min_rent = div.find(\"span\", class_=\"property-rents\").text\n",
    "        min_rent=''\n",
    "    else:\n",
    "        max_rent = \"No data found\"\n",
    "        min_rent = \"No data found\"\n",
    "    DATA.append([bed_fil, max_rent, min_rent])\n",
    "    return DATA"
   ]
  },
  {
   "cell_type": "code",
   "execution_count": 25,
   "metadata": {},
   "outputs": [
    {
     "name": "stdout",
     "output_type": "stream",
     "text": [
      "<div class=\"price-range\">$1,250 /mo</div>\n",
      "1\n"
     ]
    },
    {
     "data": {
      "text/plain": [
       "[['studios', '', '$1,250 /mo']]"
      ]
     },
     "execution_count": 25,
     "metadata": {},
     "output_type": "execute_result"
    }
   ],
   "source": [
    "ren=get_rent_data(arg,'2',info,[])\n",
    "ren"
   ]
  },
  {
   "cell_type": "code",
   "execution_count": null,
   "metadata": {},
   "outputs": [],
   "source": []
  }
 ],
 "metadata": {
  "kernelspec": {
   "display_name": "Python 3",
   "language": "python",
   "name": "python3"
  },
  "language_info": {
   "codemirror_mode": {
    "name": "ipython",
    "version": 3
   },
   "file_extension": ".py",
   "mimetype": "text/x-python",
   "name": "python",
   "nbconvert_exporter": "python",
   "pygments_lexer": "ipython3",
   "version": "3.9.18"
  }
 },
 "nbformat": 4,
 "nbformat_minor": 2
}
